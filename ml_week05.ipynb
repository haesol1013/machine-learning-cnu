{
 "cells": [
  {
   "cell_type": "code",
   "execution_count": 1,
   "id": "01a91e80",
   "metadata": {},
   "outputs": [],
   "source": [
    "import torch\n",
    "import numpy as np\n",
    "import pandas as pd"
   ]
  },
  {
   "cell_type": "code",
   "execution_count": 2,
   "id": "cb29976e",
   "metadata": {},
   "outputs": [
    {
     "name": "stdout",
     "output_type": "stream",
     "text": [
      "tensor([[ 1, -1],\n",
      "        [-1,  1]])\n"
     ]
    }
   ],
   "source": [
    "x = torch.tensor([[1, -1], [-1, 1]])\n",
    "print(x)"
   ]
  },
  {
   "cell_type": "code",
   "execution_count": 3,
   "id": "3bb60047",
   "metadata": {},
   "outputs": [
    {
     "name": "stdout",
     "output_type": "stream",
     "text": [
      "tensor([[ 1, -1],\n",
      "        [-1,  1]])\n"
     ]
    }
   ],
   "source": [
    "np_arr = np.array([[1, -1], [-1, 1]])\n",
    "x = torch.from_numpy(np_arr)\n",
    "print(x)"
   ]
  },
  {
   "cell_type": "code",
   "execution_count": 4,
   "id": "772929b9",
   "metadata": {},
   "outputs": [
    {
     "data": {
      "text/html": [
       "<div>\n",
       "<style scoped>\n",
       "    .dataframe tbody tr th:only-of-type {\n",
       "        vertical-align: middle;\n",
       "    }\n",
       "\n",
       "    .dataframe tbody tr th {\n",
       "        vertical-align: top;\n",
       "    }\n",
       "\n",
       "    .dataframe thead th {\n",
       "        text-align: right;\n",
       "    }\n",
       "</style>\n",
       "<table border=\"1\" class=\"dataframe\">\n",
       "  <thead>\n",
       "    <tr style=\"text-align: right;\">\n",
       "      <th></th>\n",
       "      <th>0</th>\n",
       "      <th>1</th>\n",
       "    </tr>\n",
       "  </thead>\n",
       "  <tbody>\n",
       "    <tr>\n",
       "      <th>0</th>\n",
       "      <td>1</td>\n",
       "      <td>-1</td>\n",
       "    </tr>\n",
       "    <tr>\n",
       "      <th>1</th>\n",
       "      <td>-1</td>\n",
       "      <td>1</td>\n",
       "    </tr>\n",
       "  </tbody>\n",
       "</table>\n",
       "</div>"
      ],
      "text/plain": [
       "   0  1\n",
       "0  1 -1\n",
       "1 -1  1"
      ]
     },
     "metadata": {},
     "output_type": "display_data"
    },
    {
     "name": "stdout",
     "output_type": "stream",
     "text": [
      "tensor([[ 1, -1],\n",
      "        [-1,  1]])\n"
     ]
    }
   ],
   "source": [
    "df = pd.DataFrame([[1, -1], [-1, 1]])\n",
    "display(df)\n",
    "x = torch.tensor(df.values)\n",
    "print(x)"
   ]
  },
  {
   "cell_type": "code",
   "execution_count": 5,
   "id": "98c43a01",
   "metadata": {},
   "outputs": [
    {
     "name": "stdout",
     "output_type": "stream",
     "text": [
      "torch.Size([])\n",
      "torch.Size([2])\n",
      "torch.Size([2, 2])\n",
      "torch.Size([1, 3, 3])\n"
     ]
    }
   ],
   "source": [
    "x = torch.tensor(1)\n",
    "print(x.shape)\n",
    "\n",
    "x = torch.tensor([1, -1])\n",
    "print(x.shape)\n",
    "\n",
    "x = torch.tensor([[1, -1], [-1, 1]])\n",
    "print(x.shape)\n",
    "\n",
    "x = torch.tensor([[[1, 2, 3], [2 ,3, 1], [3, 1, 2]]])\n",
    "print(x.shape)"
   ]
  },
  {
   "cell_type": "code",
   "execution_count": 6,
   "id": "f108a3fe",
   "metadata": {},
   "outputs": [
    {
     "data": {
      "text/plain": [
       "torch.Size([1, 4, 3])"
      ]
     },
     "execution_count": 6,
     "metadata": {},
     "output_type": "execute_result"
    }
   ],
   "source": [
    "x = torch.tensor([[[1, 2, 3],\n",
    "                  [2, 3, 1],\n",
    "                  [3, 1, 2],\n",
    "                  [1, 2, 3]]])\n",
    "x.shape"
   ]
  },
  {
   "cell_type": "code",
   "execution_count": 7,
   "id": "a400b83d",
   "metadata": {},
   "outputs": [
    {
     "data": {
      "text/plain": [
       "tensor([[0., 0.],\n",
       "        [0., 0.]])"
      ]
     },
     "metadata": {},
     "output_type": "display_data"
    },
    {
     "data": {
      "text/plain": [
       "tensor([[1., 1.],\n",
       "        [1., 1.]])"
      ]
     },
     "metadata": {},
     "output_type": "display_data"
    },
    {
     "data": {
      "text/plain": [
       "tensor([[1., 0.],\n",
       "        [0., 1.]])"
      ]
     },
     "metadata": {},
     "output_type": "display_data"
    }
   ],
   "source": [
    "x_zero = torch.zeros(2, 2)\n",
    "x_one = torch.ones(2, 2)\n",
    "x_eye = torch.eye(2)\n",
    "display(x_zero, x_one, x_eye)"
   ]
  },
  {
   "cell_type": "code",
   "execution_count": 8,
   "id": "36eb9ac4",
   "metadata": {},
   "outputs": [
    {
     "name": "stdout",
     "output_type": "stream",
     "text": [
      "tensor([[4, 6],\n",
      "        [6, 4]])\n",
      "tensor([[-2, -2],\n",
      "        [-2, -2]])\n",
      "tensor([[3, 8],\n",
      "        [8, 3]])\n",
      "tensor([[0.3333, 0.5000],\n",
      "        [0.5000, 0.3333]])\n"
     ]
    }
   ],
   "source": [
    "x = torch.tensor([[1, 2],\n",
    "                  [2, 1]])\n",
    "y = torch.tensor([[3, 4],\n",
    "                  [4, 3]])\n",
    "\n",
    "print(x + y)\n",
    "print(x - y)\n",
    "print(x * y)\n",
    "print(x / y)"
   ]
  },
  {
   "cell_type": "code",
   "execution_count": 9,
   "id": "d72e498e",
   "metadata": {},
   "outputs": [
    {
     "name": "stdout",
     "output_type": "stream",
     "text": [
      "tensor(25.)\n",
      "tensor(5.)\n"
     ]
    }
   ],
   "source": [
    "x = torch.tensor([1., 3., 5., 7., 9.])\n",
    "print(x.sum())\n",
    "print(x.mean())"
   ]
  },
  {
   "cell_type": "code",
   "execution_count": 10,
   "id": "82ce9ce6",
   "metadata": {},
   "outputs": [
    {
     "data": {
      "text/plain": [
       "tensor([[1, 2, 3],\n",
       "        [4, 5, 6]])"
      ]
     },
     "metadata": {},
     "output_type": "display_data"
    },
    {
     "data": {
      "text/plain": [
       "tensor([[1, 4],\n",
       "        [2, 5],\n",
       "        [3, 6]])"
      ]
     },
     "metadata": {},
     "output_type": "display_data"
    },
    {
     "data": {
      "text/plain": [
       "tensor([[1, 2],\n",
       "        [3, 4],\n",
       "        [5, 6]])"
      ]
     },
     "metadata": {},
     "output_type": "display_data"
    }
   ],
   "source": [
    "x = torch.tensor([[1, 2, 3],\n",
    "                  [4, 5, 6]])\n",
    "\n",
    "x_transpose = x.T\n",
    "x_reshape = x.reshape(3, 2)\n",
    "display(x, x_transpose, x_reshape)"
   ]
  },
  {
   "cell_type": "code",
   "execution_count": 11,
   "id": "efa44893",
   "metadata": {},
   "outputs": [
    {
     "data": {
      "text/plain": [
       "torch.Size([1, 2, 3])"
      ]
     },
     "metadata": {},
     "output_type": "display_data"
    },
    {
     "data": {
      "text/plain": [
       "torch.Size([2, 3])"
      ]
     },
     "metadata": {},
     "output_type": "display_data"
    },
    {
     "data": {
      "text/plain": [
       "torch.Size([1, 2, 1, 3])"
      ]
     },
     "metadata": {},
     "output_type": "display_data"
    },
    {
     "data": {
      "text/plain": [
       "torch.Size([1, 2, 3, 1])"
      ]
     },
     "metadata": {},
     "output_type": "display_data"
    }
   ],
   "source": [
    "x = torch.tensor([[[1, 2, 3],\n",
    "                  [4, 5, 6]]])\n",
    "\n",
    "x_squeeze = x.squeeze(0)\n",
    "x_unsqueeze_1 = x.unsqueeze(2)\n",
    "x_unsqueeze_2 = x.unsqueeze(3)\n",
    "display(x.shape, x_squeeze.shape, x_unsqueeze_1.shape, x_unsqueeze_2.shape)\n"
   ]
  },
  {
   "cell_type": "code",
   "execution_count": 12,
   "id": "ef18bb80",
   "metadata": {},
   "outputs": [],
   "source": [
    "from sklearn.datasets import load_iris\n",
    "import matplotlib.pyplot as plt\n",
    "import pandas as pd"
   ]
  },
  {
   "cell_type": "code",
   "execution_count": 13,
   "id": "98d9331f",
   "metadata": {},
   "outputs": [
    {
     "data": {
      "text/html": [
       "<div>\n",
       "<style scoped>\n",
       "    .dataframe tbody tr th:only-of-type {\n",
       "        vertical-align: middle;\n",
       "    }\n",
       "\n",
       "    .dataframe tbody tr th {\n",
       "        vertical-align: top;\n",
       "    }\n",
       "\n",
       "    .dataframe thead th {\n",
       "        text-align: right;\n",
       "    }\n",
       "</style>\n",
       "<table border=\"1\" class=\"dataframe\">\n",
       "  <thead>\n",
       "    <tr style=\"text-align: right;\">\n",
       "      <th></th>\n",
       "      <th>sepal length (cm)</th>\n",
       "      <th>sepal width (cm)</th>\n",
       "      <th>petal length (cm)</th>\n",
       "      <th>petal width (cm)</th>\n",
       "      <th>label</th>\n",
       "    </tr>\n",
       "  </thead>\n",
       "  <tbody>\n",
       "    <tr>\n",
       "      <th>0</th>\n",
       "      <td>5.1</td>\n",
       "      <td>3.5</td>\n",
       "      <td>1.4</td>\n",
       "      <td>0.2</td>\n",
       "      <td>0</td>\n",
       "    </tr>\n",
       "    <tr>\n",
       "      <th>1</th>\n",
       "      <td>4.9</td>\n",
       "      <td>3.0</td>\n",
       "      <td>1.4</td>\n",
       "      <td>0.2</td>\n",
       "      <td>0</td>\n",
       "    </tr>\n",
       "    <tr>\n",
       "      <th>2</th>\n",
       "      <td>4.7</td>\n",
       "      <td>3.2</td>\n",
       "      <td>1.3</td>\n",
       "      <td>0.2</td>\n",
       "      <td>0</td>\n",
       "    </tr>\n",
       "    <tr>\n",
       "      <th>3</th>\n",
       "      <td>4.6</td>\n",
       "      <td>3.1</td>\n",
       "      <td>1.5</td>\n",
       "      <td>0.2</td>\n",
       "      <td>0</td>\n",
       "    </tr>\n",
       "    <tr>\n",
       "      <th>4</th>\n",
       "      <td>5.0</td>\n",
       "      <td>3.6</td>\n",
       "      <td>1.4</td>\n",
       "      <td>0.2</td>\n",
       "      <td>0</td>\n",
       "    </tr>\n",
       "    <tr>\n",
       "      <th>...</th>\n",
       "      <td>...</td>\n",
       "      <td>...</td>\n",
       "      <td>...</td>\n",
       "      <td>...</td>\n",
       "      <td>...</td>\n",
       "    </tr>\n",
       "    <tr>\n",
       "      <th>145</th>\n",
       "      <td>6.7</td>\n",
       "      <td>3.0</td>\n",
       "      <td>5.2</td>\n",
       "      <td>2.3</td>\n",
       "      <td>2</td>\n",
       "    </tr>\n",
       "    <tr>\n",
       "      <th>146</th>\n",
       "      <td>6.3</td>\n",
       "      <td>2.5</td>\n",
       "      <td>5.0</td>\n",
       "      <td>1.9</td>\n",
       "      <td>2</td>\n",
       "    </tr>\n",
       "    <tr>\n",
       "      <th>147</th>\n",
       "      <td>6.5</td>\n",
       "      <td>3.0</td>\n",
       "      <td>5.2</td>\n",
       "      <td>2.0</td>\n",
       "      <td>2</td>\n",
       "    </tr>\n",
       "    <tr>\n",
       "      <th>148</th>\n",
       "      <td>6.2</td>\n",
       "      <td>3.4</td>\n",
       "      <td>5.4</td>\n",
       "      <td>2.3</td>\n",
       "      <td>2</td>\n",
       "    </tr>\n",
       "    <tr>\n",
       "      <th>149</th>\n",
       "      <td>5.9</td>\n",
       "      <td>3.0</td>\n",
       "      <td>5.1</td>\n",
       "      <td>1.8</td>\n",
       "      <td>2</td>\n",
       "    </tr>\n",
       "  </tbody>\n",
       "</table>\n",
       "<p>150 rows × 5 columns</p>\n",
       "</div>"
      ],
      "text/plain": [
       "     sepal length (cm)  sepal width (cm)  petal length (cm)  petal width (cm)  \\\n",
       "0                  5.1               3.5                1.4               0.2   \n",
       "1                  4.9               3.0                1.4               0.2   \n",
       "2                  4.7               3.2                1.3               0.2   \n",
       "3                  4.6               3.1                1.5               0.2   \n",
       "4                  5.0               3.6                1.4               0.2   \n",
       "..                 ...               ...                ...               ...   \n",
       "145                6.7               3.0                5.2               2.3   \n",
       "146                6.3               2.5                5.0               1.9   \n",
       "147                6.5               3.0                5.2               2.0   \n",
       "148                6.2               3.4                5.4               2.3   \n",
       "149                5.9               3.0                5.1               1.8   \n",
       "\n",
       "     label  \n",
       "0        0  \n",
       "1        0  \n",
       "2        0  \n",
       "3        0  \n",
       "4        0  \n",
       "..     ...  \n",
       "145      2  \n",
       "146      2  \n",
       "147      2  \n",
       "148      2  \n",
       "149      2  \n",
       "\n",
       "[150 rows x 5 columns]"
      ]
     },
     "execution_count": 13,
     "metadata": {},
     "output_type": "execute_result"
    }
   ],
   "source": [
    "iris = load_iris()\n",
    "df = pd.DataFrame(data=iris.data, columns=iris.feature_names)\n",
    "df['label'] = iris.target\n",
    "df"
   ]
  },
  {
   "cell_type": "code",
   "execution_count": 15,
   "id": "d1566877",
   "metadata": {},
   "outputs": [],
   "source": [
    "from torch.utils.data import Dataset, DataLoader, random_split\n",
    "\n",
    "\n",
    "class IrisDataset(Dataset):\n",
    "    def __init__(self, iris):\n",
    "        self.x_data = torch.tensor(iris.data, dtype=torch.float32)\n",
    "        self.y_data = torch.tensor(iris.target, dtype=torch.long)\n",
    "\n",
    "    def __getitem__(self, index):\n",
    "        return self.x_data[index], self.y_data[index]\n",
    "\n",
    "    def __len__(self):\n",
    "        return len(self.x_data)"
   ]
  },
  {
   "cell_type": "code",
   "execution_count": 16,
   "id": "9c9ecde2",
   "metadata": {},
   "outputs": [],
   "source": [
    "import torch.nn as nn\n",
    "\n",
    "class SoftmaxRegressionModel(nn.Module):\n",
    "    def __init__(self):\n",
    "        super().__init__()\n",
    "        self.linear = nn.Linear(4, 3)\n",
    "\n",
    "    def forward(self, x):\n",
    "        return self.linear(x)"
   ]
  },
  {
   "cell_type": "code",
   "execution_count": 17,
   "id": "146563e5",
   "metadata": {},
   "outputs": [],
   "source": [
    "iris = IrisDataset(iris)"
   ]
  },
  {
   "cell_type": "code",
   "execution_count": 18,
   "id": "9efc84f4",
   "metadata": {},
   "outputs": [],
   "source": [
    "train_size = int(len(iris) * 0.7)\n",
    "valid_size = int(len(iris) - train_size)\n",
    "train_dataset, valid_dataset = random_split(iris, [train_size, valid_size])"
   ]
  },
  {
   "cell_type": "code",
   "execution_count": 19,
   "id": "1abd2a4a",
   "metadata": {},
   "outputs": [],
   "source": [
    "train_loader = DataLoader(dataset=train_dataset, batch_size=16, shuffle=True)\n",
    "valid_loader = DataLoader(dataset=valid_dataset, batch_size=16, shuffle=False)"
   ]
  },
  {
   "cell_type": "code",
   "execution_count": 21,
   "id": "6589aa12",
   "metadata": {},
   "outputs": [],
   "source": [
    "model = SoftmaxRegressionModel()\n",
    "criterion = nn.CrossEntropyLoss()\n",
    "optimizer = torch.optim.SGD(model.parameters(), lr=0.01)"
   ]
  },
  {
   "cell_type": "code",
   "execution_count": 22,
   "id": "706023c7",
   "metadata": {},
   "outputs": [
    {
     "name": "stdout",
     "output_type": "stream",
     "text": [
      "Epoch [10/100], Train Loss: 0.7856, Valid Loss: 0.7611, Train Acc: 0.7048, Valid Acc: 0.7556\n",
      "Epoch [20/100], Train Loss: 0.6547, Valid Loss: 0.6199, Train Acc: 0.8762, Valid Acc: 0.8667\n",
      "Epoch [30/100], Train Loss: 0.5881, Valid Loss: 0.5442, Train Acc: 0.8571, Valid Acc: 0.8889\n",
      "Epoch [40/100], Train Loss: 0.5411, Valid Loss: 0.4985, Train Acc: 0.8190, Valid Acc: 0.8889\n",
      "Epoch [50/100], Train Loss: 0.5031, Valid Loss: 0.4616, Train Acc: 0.9143, Valid Acc: 0.8889\n",
      "Epoch [60/100], Train Loss: 0.4894, Valid Loss: 0.4557, Train Acc: 0.9048, Valid Acc: 0.8667\n",
      "Epoch [70/100], Train Loss: 0.4615, Valid Loss: 0.4215, Train Acc: 0.9143, Valid Acc: 0.9556\n",
      "Epoch [80/100], Train Loss: 0.4369, Valid Loss: 0.4036, Train Acc: 0.9429, Valid Acc: 0.9556\n",
      "Epoch [90/100], Train Loss: 0.4311, Valid Loss: 0.3874, Train Acc: 0.9524, Valid Acc: 0.9556\n",
      "Epoch [100/100], Train Loss: 0.4157, Valid Loss: 0.3790, Train Acc: 0.9333, Valid Acc: 0.9556\n"
     ]
    }
   ],
   "source": [
    "epochs = 100\n",
    "train_losses = []\n",
    "valid_losses = []\n",
    "train_accuracies = []\n",
    "valid_accuracies = []\n",
    "\n",
    "for epoch in range(epochs):\n",
    "    model.train()\n",
    "    running_train_loss = 0.0\n",
    "    correct_train = 0\n",
    "    total_train = 0\n",
    "\n",
    "    for inputs, labels in train_loader:\n",
    "        outputs = model (inputs)\n",
    "        loss = criterion(outputs, labels)\n",
    "\n",
    "        optimizer.zero_grad()\n",
    "        loss.backward()\n",
    "        optimizer.step()\n",
    "\n",
    "        running_train_loss += loss.item()\n",
    "        _, predicted = torch.max(outputs.data, 1)\n",
    "        total_train += labels.size(0)\n",
    "        correct_train += (predicted == labels).sum().item()\n",
    "\n",
    "    epoch_train_loss = running_train_loss / len(train_loader)\n",
    "    train_losses.append(epoch_train_loss)\n",
    "    train_accuracy = correct_train / total_train\n",
    "    train_accuracies.append(train_accuracy)\n",
    "\n",
    "    model.eval()\n",
    "    running_valid_loss = 0.0\n",
    "    correct_valid = 0\n",
    "    total_valid = 0\n",
    "    with torch.no_grad():\n",
    "        for inputs, labels in valid_loader:\n",
    "            outputs = model (inputs)\n",
    "            loss = criterion(outputs, labels)\n",
    "            running_valid_loss += loss. item()\n",
    "            _, predicted = torch.max(outputs.data, 1)\n",
    "            total_valid += labels.size(0)\n",
    "            correct_valid += (predicted == labels).sum().item()\n",
    "\n",
    "    epoch_valid_loss = running_valid_loss / len(valid_loader)\n",
    "    valid_losses.append(epoch_valid_loss)\n",
    "    valid_accuracy = correct_valid / total_valid\n",
    "    valid_accuracies.append(valid_accuracy)\n",
    "\n",
    "    if (epoch + 1) % 10 == 0:\n",
    "        print(f'Epoch [{epoch+1}/{epochs}], Train Loss: {epoch_train_loss:,.4f}, Valid Loss: {epoch_valid_loss:,.4f}, '\n",
    "              f'Train Acc: {train_accuracy:,.4f}, Valid Acc: {valid_accuracy:,.4f}')"
   ]
  },
  {
   "cell_type": "code",
   "execution_count": 24,
   "id": "4842d5ad",
   "metadata": {},
   "outputs": [
    {
     "name": "stdout",
     "output_type": "stream",
     "text": [
      "\n",
      " === Validation Predictions === \n",
      "000 | true=    setosa pred=    setosa probs=[0.964 0.035 0.001]\n",
      "001 | true=    setosa pred=    setosa probs=[0.913 0.082 0.005]\n",
      "002 | true=    setosa pred=    setosa probs=[0.864 0.122 0.014]\n",
      "003 | true=versicolor pred=versicolor probs=[0.072 0.536 0.391]\n",
      "004 | true= virginica pred= virginica probs=[0.005 0.422 0.573]\n",
      "005 | true=versicolor pred=versicolor probs=[0.102 0.632 0.266]\n",
      "006 | true= virginica pred= virginica probs=[0.015 0.433 0.552]\n",
      "007 | true= virginica pred=versicolor probs=[0.012 0.54  0.449]\n",
      "008 | true= virginica pred= virginica probs=[0.011 0.322 0.667]\n",
      "009 | true=versicolor pred=versicolor probs=[0.073 0.541 0.386]\n",
      "010 | true= virginica pred= virginica probs=[0.006 0.243 0.751]\n",
      "011 | true=versicolor pred=versicolor probs=[0.182 0.607 0.21 ]\n",
      "012 | true=    setosa pred=    setosa probs=[0.892 0.101 0.008]\n",
      "013 | true= virginica pred= virginica probs=[0.024 0.43  0.546]\n",
      "014 | true=versicolor pred=versicolor probs=[0.052 0.628 0.319]\n",
      "015 | true=    setosa pred=    setosa probs=[0.832 0.15  0.018]\n",
      "016 | true= virginica pred= virginica probs=[0.005 0.324 0.67 ]\n",
      "017 | true= virginica pred= virginica probs=[0.002 0.195 0.803]\n",
      "018 | true= virginica pred= virginica probs=[0.004 0.294 0.702]\n",
      "019 | true= virginica pred= virginica probs=[0.008 0.465 0.527]\n",
      "020 | true=versicolor pred=versicolor probs=[0.136 0.573 0.29 ]\n",
      "021 | true=    setosa pred=    setosa probs=[0.897 0.095 0.008]\n",
      "022 | true=versicolor pred=versicolor probs=[0.085 0.582 0.332]\n",
      "023 | true=    setosa pred=    setosa probs=[0.909 0.086 0.005]\n",
      "024 | true=versicolor pred=versicolor probs=[0.047 0.525 0.429]\n",
      "025 | true= virginica pred= virginica probs=[0.004 0.441 0.555]\n",
      "026 | true=    setosa pred=    setosa probs=[0.902 0.091 0.007]\n",
      "027 | true= virginica pred=versicolor probs=[0.018 0.504 0.478]\n",
      "028 | true=versicolor pred=versicolor probs=[0.031 0.538 0.431]\n",
      "029 | true=    setosa pred=    setosa probs=[0.871 0.116 0.013]\n",
      "030 | true=versicolor pred=versicolor probs=[0.078 0.607 0.315]\n",
      "031 | true=versicolor pred=versicolor probs=[0.052 0.592 0.356]\n",
      "032 | true=    setosa pred=    setosa probs=[0.887 0.105 0.008]\n",
      "033 | true=versicolor pred=versicolor probs=[0.133 0.56  0.306]\n",
      "034 | true=versicolor pred=versicolor probs=[0.054 0.498 0.448]\n",
      "035 | true=    setosa pred=    setosa probs=[0.898 0.095 0.007]\n",
      "036 | true= virginica pred= virginica probs=[0.005 0.303 0.692]\n",
      "037 | true=    setosa pred=    setosa probs=[0.855 0.134 0.012]\n",
      "038 | true= virginica pred= virginica probs=[0.021 0.43  0.549]\n",
      "039 | true= virginica pred= virginica probs=[0.021 0.467 0.512]\n",
      "040 | true=    setosa pred=    setosa probs=[0.925 0.07  0.005]\n",
      "041 | true=    setosa pred=    setosa probs=[0.851 0.134 0.015]\n",
      "042 | true=    setosa pred=    setosa probs=[0.824 0.16  0.016]\n",
      "043 | true=    setosa pred=    setosa probs=[0.881 0.11  0.009]\n",
      "044 | true=    setosa pred=    setosa probs=[0.859 0.128 0.013]\n"
     ]
    }
   ],
   "source": [
    "model.eval()\n",
    "all_preds, all_targets, all_probs = [], [], []\n",
    "with torch.no_grad():\n",
    "    for xb, yb in valid_loader:\n",
    "        logits = model (xb)\n",
    "        probs = torch.softmax(logits, dim=1)\n",
    "        pred = probs.argmax(dim=1)\n",
    "        all_preds.append(pred.cpu())\n",
    "        all_targets.append(yb.cpu())\n",
    "        all_probs.append(probs.cpu())\n",
    "all_preds = torch.cat(all_preds).numpy()\n",
    "all_targets = torch.cat(all_targets).numpy()\n",
    "all_probs = torch.cat(all_probs).numpy()\n",
    "\n",
    "names = load_iris().target_names\n",
    "\n",
    "print (\"\\n === Validation Predictions === \")\n",
    "for i in range(len(all_targets)):\n",
    "    print(f\"{i:03d} | true={names[all_targets[i]] :>10} \"\n",
    "        f\"pred={names[all_preds[i]] :>10} \"\n",
    "        f\"probs={np.round(all_probs[i], 3)}\")"
   ]
  },
  {
   "cell_type": "code",
   "execution_count": null,
   "id": "415dbc5f",
   "metadata": {},
   "outputs": [],
   "source": [
    " "
   ]
  }
 ],
 "metadata": {
  "kernelspec": {
   "display_name": "Python 3",
   "language": "python",
   "name": "python3"
  },
  "language_info": {
   "codemirror_mode": {
    "name": "ipython",
    "version": 3
   },
   "file_extension": ".py",
   "mimetype": "text/x-python",
   "name": "python",
   "nbconvert_exporter": "python",
   "pygments_lexer": "ipython3",
   "version": "3.11.9"
  }
 },
 "nbformat": 4,
 "nbformat_minor": 5
}
